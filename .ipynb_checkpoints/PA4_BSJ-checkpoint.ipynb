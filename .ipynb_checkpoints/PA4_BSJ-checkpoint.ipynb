{
 "cells": [
  {
   "cell_type": "markdown",
   "metadata": {},
   "source": [
    "# Programming Assignment 4\n",
    "Brian Johnston  \n",
    "v1.0  \n",
    "FA2020-CS150-01  "
   ]
  },
  {
   "cell_type": "markdown",
   "metadata": {},
   "source": [
    "a."
   ]
  },
  {
   "cell_type": "code",
   "execution_count": 2,
   "metadata": {},
   "outputs": [],
   "source": [
    "import random"
   ]
  },
  {
   "cell_type": "code",
   "execution_count": 9,
   "metadata": {},
   "outputs": [],
   "source": [
    "def swap_first_last(nList):\n",
    "    lastIndex = len(nList) - 1 #sets lastIndex such that when it's called through the list, it returns the last value\n",
    "    placeholder = nList[0] #stores the value of the first element of the list\n",
    "    nList[0] = nList[lastIndex] #sets first value in the list to the value of the last\n",
    "    nList[lastIndex] = placeholder #sets last value of the list equal to the placeholder for the original first value\n",
    "    return nList #returns the newly swapped list"
   ]
  },
  {
   "cell_type": "code",
   "execution_count": 10,
   "metadata": {},
   "outputs": [
    {
     "name": "stdout",
     "output_type": "stream",
     "text": [
      "Please enter the length of the liist you wish to create (minimum length of 2, integer inputs only): 5\n",
      "This is your original list: [22, 44, 45, 87, 14]\n",
      "And this is your list after swapping the first and last entries: [14, 44, 45, 87, 22]\n"
     ]
    }
   ],
   "source": [
    "listLen = int(input(\"Please enter the length of the list you wish to create (minimum length of 2, integer inputs only): \"))\n",
    "\n",
    "randList = []\n",
    "\n",
    "for i in range(0,listLen):\n",
    "    randList.append(random.randint(1,100))\n",
    "\n",
    "print(\"This is your original list:\",randList)\n",
    "\n",
    "swap_first_last(randList)\n",
    "\n",
    "print(\"And this is your list after swapping the first and last entries:\", randList)"
   ]
  },
  {
   "cell_type": "markdown",
   "metadata": {},
   "source": [
    "b."
   ]
  },
  {
   "cell_type": "code",
   "execution_count": 15,
   "metadata": {},
   "outputs": [],
   "source": [
    "def encode(nList):\n",
    "    encodeList = []\n",
    "    for i in nList:\n",
    "        if i % 2 == 0:\n",
    "            encodeList.append(1)\n",
    "        else:\n",
    "            encodeList.append(-1)\n",
    "    return encodeList"
   ]
  },
  {
   "cell_type": "code",
   "execution_count": 17,
   "metadata": {},
   "outputs": [
    {
     "name": "stdout",
     "output_type": "stream",
     "text": [
      "Please enter the length of the liist you wish to create (minimum length of 2, integer inputs only): 5\n",
      "This is your original list: [65, 27, 73, 92, 11]\n",
      "And this is your list after swapping the first and last entries: [-1, -1, -1, 1, -1]\n"
     ]
    }
   ],
   "source": [
    "listLen = int(input(\"Please enter the length of the list you wish to create (minimum length of 2, integer inputs only): \"))\n",
    "\n",
    "parityList = []\n",
    "\n",
    "for i in range(0,listLen):\n",
    "    parityList.append(random.randint(1,100))\n",
    "\n",
    "print(\"This is your original list:\",parityList)\n",
    "\n",
    "parityList = encode(parityList)\n",
    "\n",
    "print(\"And this is your list after encoding entries to even and odd as 1 and -1, respectively:\", parityList)"
   ]
  },
  {
   "cell_type": "markdown",
   "metadata": {},
   "source": [
    "c."
   ]
  },
  {
   "cell_type": "code",
   "execution_count": 18,
   "metadata": {},
   "outputs": [],
   "source": [
    "def rotate(iTup):\n",
    "    a,b,c = iTup\n",
    "    nTup = (c,a,b)\n",
    "    return nTup"
   ]
  },
  {
   "cell_type": "code",
   "execution_count": 21,
   "metadata": {},
   "outputs": [],
   "source": [
    "tup1 = ('John', 'Kennedy', 41)\n",
    "tup2 = (5,12,13)\n",
    "tup3 = ('Diorite','Andesite','Granite')"
   ]
  },
  {
   "cell_type": "code",
   "execution_count": 22,
   "metadata": {},
   "outputs": [
    {
     "name": "stdout",
     "output_type": "stream",
     "text": [
      "('John', 'Kennedy', 41) (41, 'John', 'Kennedy')\n",
      "(5, 12, 13) (13, 5, 12)\n",
      "('Diorite', 'Andesite', 'Granite') ('Granite', 'Diorite', 'Andesite')\n"
     ]
    }
   ],
   "source": [
    "tup1R = rotate(tup1)\n",
    "tup2R = rotate(tup2)\n",
    "tup3R = rotate(tup3)\n",
    "print(tup1,tup1R)\n",
    "print(tup2,tup2R)\n",
    "print(tup3,tup3R)"
   ]
  }
 ],
 "metadata": {
  "kernelspec": {
   "display_name": "Python 3",
   "language": "python",
   "name": "python3"
  },
  "language_info": {
   "codemirror_mode": {
    "name": "ipython",
    "version": 3
   },
   "file_extension": ".py",
   "mimetype": "text/x-python",
   "name": "python",
   "nbconvert_exporter": "python",
   "pygments_lexer": "ipython3",
   "version": "3.7.3"
  }
 },
 "nbformat": 4,
 "nbformat_minor": 2
}
